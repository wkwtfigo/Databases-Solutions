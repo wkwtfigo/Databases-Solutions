{
 "cells": [
  {
   "cell_type": "code",
   "execution_count": 3,
   "id": "75039f61",
   "metadata": {},
   "outputs": [],
   "source": [
    "# docker pull pgvector/pgvector:pg17\n",
    "# docker volume create pgvector-data\n",
    "# docker run --name pgvector-container -e POSTGRES_PASSWORD=rootroot -p 5433:5432 -h 127.0.0.1 -v pgvector-data:/var/lib/postgresql/data -d pgvector/pgvector:pg17"
   ]
  },
  {
   "cell_type": "markdown",
   "id": "8ff6bfc4",
   "metadata": {},
   "source": [
    "# 🔬 Lab: Exploring Vector Databases with `pgvector` and PostgreSQL\n",
    "\n",
    "---\n",
    "\n",
    "## 🧠 Objective\n",
    "In this lab, you will:\n",
    "- Understand what a vector database is and why it's used in AI/ML.\n",
    "- Install and configure `pgvector` in a PostgreSQL environment.\n",
    "- Connect to the PostgreSQL database using `pgAdmin`.\n",
    "- Store and search vector embeddings using SQL queries.\n",
    "- Use Python to interact with the database and perform similarity searches.\n",
    "\n",
    "---\n",
    "\n",
    "## 🛠️ Requirements\n",
    "- PostgreSQL 15+\n",
    "- `pgvector` extension installed\n",
    "- `pgAdmin` (for GUI interaction)\n",
    "- Python 3.8+\n",
    "- Python packages: `psycopg2`, `sentence_transformer`\n",
    "\n",
    "---"
   ]
  },
  {
   "cell_type": "code",
   "execution_count": null,
   "id": "a59ca73f",
   "metadata": {},
   "outputs": [],
   "source": [
    "# Activate virtual environment and install required libraries \n",
    "%%capture\n",
    "!python3 -m venv .venv\n",
    "!source .venv/bin/activate\n",
    "\n",
    "!pip install psycopg2\n",
    "!pip install tqdm\n",
    "!pip install sentence_transformers"
   ]
  },
  {
   "cell_type": "code",
   "execution_count": 1,
   "id": "74adccbf",
   "metadata": {},
   "outputs": [],
   "source": [
    "from sentence_transformers import SentenceTransformer\n",
    "import psycopg2"
   ]
  },
  {
   "cell_type": "markdown",
   "id": "3f92668a",
   "metadata": {},
   "source": [
    "📚 Lab Tasks\n",
    "\n",
    "We will try to understand how vectorDB work by embedding the following corpus, and do a similarity check after connecting with vector database."
   ]
  },
  {
   "cell_type": "code",
   "execution_count": 2,
   "id": "8cb2417f",
   "metadata": {},
   "outputs": [],
   "source": [
    "corpus = [\n",
    "    \"A man is eating food.\",\n",
    "    \"A man is eating a piece of bread.\",\n",
    "    \"The girl is carrying a baby.\",\n",
    "    \"A man is riding a horse.\",\n",
    "    \"A woman is playing violin.\",\n",
    "    \"Two men pushed carts through the woods.\",\n",
    "    \"A man is riding a white horse on an enclosed ground.\",\n",
    "    \"A monkey is playing drums.\",\n",
    "    \"A cheetah is running behind its prey.\",\n",
    "]"
   ]
  },
  {
   "cell_type": "markdown",
   "id": "5ea746b4",
   "metadata": {},
   "source": [
    "Task1: Generate Embeddings (e.g., using OpenAI API)"
   ]
  },
  {
   "cell_type": "code",
   "execution_count": 3,
   "id": "6263a868",
   "metadata": {},
   "outputs": [
    {
     "name": "stdout",
     "output_type": "stream",
     "text": [
      "(9, 384)\n"
     ]
    }
   ],
   "source": [
    "model = SentenceTransformer(\"all-MiniLM-L6-v2\")\n",
    "embeddings = model.encode(corpus)\n",
    "print(embeddings.shape)"
   ]
  },
  {
   "cell_type": "markdown",
   "id": "a16393cf",
   "metadata": {},
   "source": [
    "Task2: Connect to the \"vectorDB\""
   ]
  },
  {
   "cell_type": "code",
   "execution_count": 5,
   "id": "ab432170",
   "metadata": {},
   "outputs": [],
   "source": [
    "conn = psycopg2.connect(\n",
    "    host=\"localhost\",\n",
    "    database=\"vectorDB\",\n",
    "    port=5433,\n",
    "    user=\"postgres\",\n",
    "    password=\"rootroot\",\n",
    ")"
   ]
  },
  {
   "cell_type": "code",
   "execution_count": 6,
   "id": "75216f7b",
   "metadata": {},
   "outputs": [
    {
     "name": "stdout",
     "output_type": "stream",
     "text": [
      "Connected Successfully\n"
     ]
    }
   ],
   "source": [
    "cur = conn.cursor()                \n",
    "print(\"Connected Successfully\")"
   ]
  },
  {
   "cell_type": "markdown",
   "id": "dad54e51",
   "metadata": {},
   "source": [
    "Task 3: Enable vector extension.\n",
    "\n",
    "Task 4: Create a Table with a Vector Column."
   ]
  },
  {
   "cell_type": "code",
   "execution_count": 7,
   "id": "61334f27",
   "metadata": {},
   "outputs": [],
   "source": [
    "cur.execute(\"CREATE EXTENSION IF NOT EXISTS vector;\")\n",
    "cur.execute(\"CREATE TABLE IF NOT EXISTS words (id bigserial PRIMARY KEY, embedding vector(384), sentence text);\")\n",
    "conn.commit()"
   ]
  },
  {
   "cell_type": "markdown",
   "id": "e79fc20a",
   "metadata": {},
   "source": [
    "Task 5: Insert Data into the Table"
   ]
  },
  {
   "cell_type": "code",
   "execution_count": 8,
   "id": "4dc5fec3",
   "metadata": {},
   "outputs": [],
   "source": [
    "for emb, sen in zip(embeddings, corpus):\n",
    "    cur.execute(\"INSERT INTO words (embedding, sentence) VALUES (%s, %s)\", (emb.tolist(), sen))\n",
    "conn.commit()"
   ]
  },
  {
   "cell_type": "markdown",
   "id": "063ae0a8",
   "metadata": {},
   "source": [
    "Task 6: Perform a Similarity Search.\n"
   ]
  },
  {
   "cell_type": "code",
   "execution_count": 9,
   "id": "507104f5",
   "metadata": {},
   "outputs": [],
   "source": [
    "query_emb = model.encode(\"The man is\").tolist()\n",
    "\n",
    "cur.execute(f\"SELECT id, sentence FROM words ORDER BY embedding <-> '{query_emb}' LIMIT 3\")\n",
    "result = cur.fetchall()"
   ]
  },
  {
   "cell_type": "markdown",
   "id": "4ea2414e",
   "metadata": {},
   "source": [
    "Task 7: Print the results.\n"
   ]
  },
  {
   "cell_type": "code",
   "execution_count": 10,
   "id": "d6e445b6",
   "metadata": {},
   "outputs": [
    {
     "data": {
      "text/plain": [
       "[(1, 'A man is eating food.'),\n",
       " (4, 'A man is riding a horse.'),\n",
       " (7, 'A man is riding a white horse on an enclosed ground.')]"
      ]
     },
     "execution_count": 10,
     "metadata": {},
     "output_type": "execute_result"
    }
   ],
   "source": [
    "result"
   ]
  },
  {
   "cell_type": "code",
   "execution_count": 11,
   "id": "c9c8f84f",
   "metadata": {},
   "outputs": [],
   "source": [
    "conn.close()"
   ]
  }
 ],
 "metadata": {
  "kernelspec": {
   "display_name": ".venv",
   "language": "python",
   "name": "python3"
  },
  "language_info": {
   "codemirror_mode": {
    "name": "ipython",
    "version": 3
   },
   "file_extension": ".py",
   "mimetype": "text/x-python",
   "name": "python",
   "nbconvert_exporter": "python",
   "pygments_lexer": "ipython3",
   "version": "3.12.4"
  }
 },
 "nbformat": 4,
 "nbformat_minor": 5
}
